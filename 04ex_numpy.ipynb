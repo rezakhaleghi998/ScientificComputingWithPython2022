{
 "cells": [
  {
   "cell_type": "markdown",
   "metadata": {},
   "source": [
    "1\\. **Reductions**\n",
    "\n",
    "Find the total mean, and the mean for each row and column of the following matrix:\n",
    "\n",
    "```python\n",
    "m = np.arange(12).reshape((3,4))\n",
    "```"
   ]
  },
  {
   "cell_type": "code",
   "execution_count": 1,
   "outputs": [
    {
     "name": "stdout",
     "output_type": "stream",
     "text": [
      "[[ 0  1  2  3]\n",
      " [ 4  5  6  7]\n",
      " [ 8  9 10 11]]\n",
      "5.5\n",
      "[1.5 5.5 9.5]\n",
      "[4. 5. 6. 7.]\n"
     ]
    }
   ],
   "source": [
    "import numpy as np\n",
    "m = np.arange(12).reshape((3,4))\n",
    "print(m)\n",
    "z=np.mean(m)\n",
    "print(z)\n",
    "x=np.mean(m,axis=1)\n",
    "print(x)\n",
    "y=np.mean(m,axis=0)\n",
    "print(y)"
   ],
   "metadata": {
    "collapsed": false
   }
  },
  {
   "cell_type": "markdown",
   "metadata": {},
   "source": [
    "2\\. **Outer product**\n",
    "\n",
    "Find the outer product of the following vectors:\n",
    "\n",
    "```python\n",
    "u = np.array([1, 3, 5, 7])\n",
    "v = np.array([2, 4, 6, 8])\n",
    "```\n",
    "\n",
    "Use different methods to do this:\n",
    "\n",
    "   1. Using the function `outer` in numpy\n",
    "   2. Using a nested `for` loop or a list comprehension\n",
    "   3. Using numpy broadcasting operations"
   ]
  },
  {
   "cell_type": "code",
   "execution_count": 4,
   "metadata": {},
   "outputs": [
    {
     "name": "stdout",
     "output_type": "stream",
     "text": [
      "[[ 2  4  6  8]\n",
      " [ 6 12 18 24]\n",
      " [10 20 30 40]\n",
      " [14 28 42 56]]\n"
     ]
    }
   ],
   "source": [
    "u = np.array([1, 3, 5, 7])\n",
    "v = np.array([2, 4, 6, 8])\n",
    "z=np.outer(u, v)\n",
    "print(z)"
   ]
  },
  {
   "cell_type": "code",
   "execution_count": 7,
   "outputs": [
    {
     "ename": "AttributeError",
     "evalue": "'numpy.ndarray' object has no attribute 'append'",
     "output_type": "error",
     "traceback": [
      "\u001B[1;31m---------------------------------------------------------------------------\u001B[0m",
      "\u001B[1;31mAttributeError\u001B[0m                            Traceback (most recent call last)",
      "Cell \u001B[1;32mIn [7], line 13\u001B[0m\n\u001B[0;32m     10\u001B[0m     matrix\u001B[38;5;241m.\u001B[39mappend([])\n\u001B[0;32m     12\u001B[0m     \u001B[38;5;28;01mfor\u001B[39;00m j \u001B[38;5;129;01min\u001B[39;00m v:\n\u001B[1;32m---> 13\u001B[0m         \u001B[43mmatrix\u001B[49m\u001B[43m[\u001B[49m\u001B[43mi\u001B[49m\u001B[43m]\u001B[49m\u001B[38;5;241;43m.\u001B[39;49m\u001B[43mappend\u001B[49m(j)\n\u001B[0;32m     15\u001B[0m \u001B[38;5;28mprint\u001B[39m(matrix)\n",
      "\u001B[1;31mAttributeError\u001B[0m: 'numpy.ndarray' object has no attribute 'append'"
     ]
    }
   ],
   "source": [
    "u = np.array([1, 3, 5, 7])\n",
    "v = np.array([2, 4, 6, 8])\n",
    "matrix = [u,v]\n",
    "for i in u:\n",
    "    # Append an empty sublist inside the list\n",
    "    matrix.append([])\n",
    "    for j in v:\n",
    "        matrix[i].append(j)\n",
    "print(matrix)"
   ],
   "metadata": {
    "collapsed": false
   }
  },
  {
   "cell_type": "code",
   "execution_count": 11,
   "outputs": [
    {
     "name": "stdout",
     "output_type": "stream",
     "text": [
      "[3, 5, 7, 9, 5, 7, 9, 11, 7, 9, 11, 13, 9, 11, 13, 15]\n"
     ]
    }
   ],
   "source": [
    "u = np.array([1, 3, 5, 7])\n",
    "v = np.array([2, 4, 6, 8])\n",
    "\n",
    "final = [i + j for i in u for j in v]\n",
    "\n",
    "print(final)"
   ],
   "metadata": {
    "collapsed": false
   }
  },
  {
   "cell_type": "markdown",
   "metadata": {},
   "source": [
    "3\\. **Matrix masking**\n",
    "\n",
    "Create a 10 by 6 matrix of float random numbers, distributed between 0 and 3 according to a flat distribution.\n",
    "\n",
    "After creating the matrix, set all entries $< 0.3$ to zero using a mask."
   ]
  },
  {
   "cell_type": "code",
   "execution_count": 36,
   "outputs": [
    {
     "name": "stdout",
     "output_type": "stream",
     "text": [
      "[[0.73760573 2.15762299 1.36334253 2.73953105 0.27833945 1.48132155]\n",
      " [0.44664681 1.85549607 1.88586481 2.34596732 2.69226992 0.06736928]\n",
      " [2.15853033 0.15504671 2.92330727 2.3169344  0.98097798 2.82020982]\n",
      " [2.60564743 0.08366513 0.66783283 1.72963697 2.32809474 1.67402846]\n",
      " [0.4261955  1.19030114 2.09600887 2.50839433 2.54222393 2.94451907]\n",
      " [2.97276893 1.28990182 1.03556638 1.05126257 2.41733848 2.13350986]\n",
      " [1.19722236 0.92138449 1.74562301 1.25130229 1.65632063 0.15886427]\n",
      " [1.04037936 0.64445407 2.20836945 0.62955633 0.61792579 0.84645636]\n",
      " [1.63464481 1.16749205 2.73258644 1.47993856 1.13395418 0.85525509]\n",
      " [1.50887363 1.38190718 2.37064977 0.10123882 0.27956434 0.46161652]]\n",
      "\n",
      "[[0.73760573 2.15762299 1.36334253 2.73953105 0.         1.48132155]\n",
      " [0.44664681 1.85549607 1.88586481 2.34596732 2.69226992 0.        ]\n",
      " [2.15853033 0.         2.92330727 2.3169344  0.98097798 2.82020982]\n",
      " [2.60564743 0.         0.66783283 1.72963697 2.32809474 1.67402846]\n",
      " [0.4261955  1.19030114 2.09600887 2.50839433 2.54222393 2.94451907]\n",
      " [2.97276893 1.28990182 1.03556638 1.05126257 2.41733848 2.13350986]\n",
      " [1.19722236 0.92138449 1.74562301 1.25130229 1.65632063 0.        ]\n",
      " [1.04037936 0.64445407 2.20836945 0.62955633 0.61792579 0.84645636]\n",
      " [1.63464481 1.16749205 2.73258644 1.47993856 1.13395418 0.85525509]\n",
      " [1.50887363 1.38190718 2.37064977 0.         0.         0.46161652]]\n"
     ]
    }
   ],
   "source": [
    "import numpy.ma as ma\n",
    "high = 3\n",
    "low = 0\n",
    "m,n = 10,6\n",
    "\n",
    "a = (high - low)*np.random.rand(m,n) + low\n",
    "print(a)\n",
    "print()\n",
    "print(ma.filled(ma.masked_where(a <= .3, a).astype(float), .0))\n",
    "\n",
    "\n"
   ],
   "metadata": {
    "collapsed": false
   }
  },
  {
   "cell_type": "markdown",
   "metadata": {},
   "source": [
    "4\\. **Trigonometric functions**\n",
    "\n",
    "Use `np.linspace` to create an array of 100 numbers between $0$ and $2\\pi$ (inclusive).\n",
    "\n",
    "  * Extract every 10th element using the slice notation\n",
    "  * Reverse the array using the slice notation\n",
    "  * Extract elements where the absolute difference between the `sin` and `cos` functions evaluated for that element is $< 0.1$\n",
    "  * **Optional**: make a plot showing the sin and cos functions and indicate where they are close"
   ]
  },
  {
   "cell_type": "code",
   "execution_count": 18,
   "outputs": [
    {
     "name": "stdout",
     "output_type": "stream",
     "text": [
      "[0.         0.         0.         0.         0.         0.\n",
      " 0.         0.         0.         0.         0.         0.\n",
      " 0.76159822 0.82506474 0.         0.         0.         0.\n",
      " 0.         0.         0.         0.         0.         0.\n",
      " 0.         0.         0.         0.         0.         0.\n",
      " 0.         0.         0.         0.         0.         0.\n",
      " 0.         0.         0.         0.         0.         0.\n",
      " 0.         0.         0.         0.         0.         0.\n",
      " 0.         0.         0.         0.         0.         0.\n",
      " 0.         0.         0.         0.         0.         0.\n",
      " 0.         3.87145761 3.93492413 0.         0.         0.\n",
      " 0.         0.         0.         0.         0.         0.\n",
      " 0.         0.         0.         0.         0.         0.\n",
      " 0.         0.         0.         0.         0.         0.\n",
      " 0.         0.         0.         0.         0.         0.\n",
      " 0.         0.         0.         0.         0.         0.\n",
      " 0.         0.         0.         0.        ]\n"
     ]
    }
   ],
   "source": [
    "import numpy as np\n",
    "import math\n",
    "x = np.linspace(0, 2 * np.pi, 100)\n",
    "# print(x)\n",
    "# print()\n",
    "# every_10rd = x[::10]\n",
    "# print(every_10rd)\n",
    "# print()\n",
    "# reverse_array = x[::-1]\n",
    "# print(reverse_array)\n",
    "# print()\n",
    "x[abs(np.sin(x)-np.cos(x))>=0.1] = 0\n",
    "print(x)\n",
    "\n",
    "\n",
    "\n"
   ],
   "metadata": {
    "collapsed": false
   }
  },
  {
   "cell_type": "markdown",
   "metadata": {},
   "source": [
    "(5\\. **Matrices**\n",
    "\n",
    "Create a matrix that shows the 10 by 10 multiplication table.\n",
    "\n",
    " * Find the trace of the matrix\n",
    " * Extract the anti-diagonal matrix (this should be ```array([10, 18, 24, 28, 30, 30, 28, 24, 18, 10])```)\n",
    " * Extract the diagonal offset by 1 upwards (this should be ```array([ 2,  6, 12, 20, 30, 42, 56, 72, 90])```)"
   ]
  },
  {
   "cell_type": "code",
   "execution_count": 75,
   "metadata": {},
   "outputs": [
    {
     "name": "stdout",
     "output_type": "stream",
     "text": [
      "[[  1   2   3   4   5   6   7   8   9  10]\n",
      " [  2   4   6   8  10  12  14  16  18  20]\n",
      " [  3   6   9  12  15  18  21  24  27  30]\n",
      " [  4   8  12  16  20  24  28  32  36  40]\n",
      " [  5  10  15  20  25  30  35  40  45  50]\n",
      " [  6  12  18  24  30  36  42  48  54  60]\n",
      " [  7  14  21  28  35  42  49  56  63  70]\n",
      " [  8  16  24  32  40  48  56  64  72  80]\n",
      " [  9  18  27  36  45  54  63  72  81  90]\n",
      " [ 10  20  30  40  50  60  70  80  90 100]]\n",
      "trace of the matrix= 385\n",
      "anti-diagonal= [10 18 24 28 30 30 28 24 18 10]\n",
      "upwards= [ 2  6 12 20 30 42 56 72 90]\n"
     ]
    }
   ],
   "source": [
    "def mult_table(n):\n",
    "    rng = np.arange(1, n+1)\n",
    "    return rng * rng[:, None]\n",
    "print(mult_table(10))\n",
    "print(\"trace of the matrix=\", np.matrix.trace(mult_table(10)))\n",
    "arr=np.array(mult_table(10))\n",
    "print(\"anti-diagonal=\",np.fliplr(arr).diagonal())\n",
    "upwards=np.diag(mult_table(10), k=1)\n",
    "print(\"upwards=\",upwards)"
   ]
  },
  {
   "cell_type": "markdown",
   "metadata": {},
   "source": [
    "6\\. **Broadcasting**\n",
    "\n",
    "Use broadcasting to create a grid of distances.\n",
    "\n",
    "Route 66 crosses the following cities in the US: Chicago, Springfield, Saint-Louis, Tulsa, Oklahoma City, Amarillo, Santa Fe, Albuquerque, Flagstaff, Los Angeles.\n",
    "\n",
    "The corresponding positions in miles are: 0, 198, 303, 736, 871, 1175, 1475, 1544, 1913, 2448\n",
    "\n",
    "  * Build a 2D grid of distances among each city along Route 66\n",
    "  * Convert the distances in km"
   ]
  },
  {
   "cell_type": "code",
   "execution_count": 109,
   "metadata": {},
   "outputs": [
    {
     "name": "stdout",
     "output_type": "stream",
     "text": [
      "\n",
      "distance: \n",
      " [[   0  198  303  736  871 1175 1475 1544 1913 2448]\n",
      " [ 198    0  105  538  673  977 1277 1346 1715 2250]\n",
      " [ 303  105    0  433  568  872 1172 1241 1610 2145]\n",
      " [ 736  538  433    0  135  439  739  808 1177 1712]\n",
      " [ 871  673  568  135    0  304  604  673 1042 1577]\n",
      " [1175  977  872  439  304    0  300  369  738 1273]\n",
      " [1475 1277 1172  739  604  300    0   69  438  973]\n",
      " [1544 1346 1241  808  673  369   69    0  369  904]\n",
      " [1913 1715 1610 1177 1042  738  438  369    0  535]\n",
      " [2448 2250 2145 1712 1577 1273  973  904  535    0]]\n",
      "\n",
      " Converted from miles in: \n",
      " [[   0.          318.65011315  487.63123376 1184.47718826 1401.73862905\n",
      "  1890.97920681 2373.78240855 2484.82714495 3078.67508309 3939.67412619]\n",
      " [ 318.65011315    0.          168.98112061  865.82707512 1083.0885159\n",
      "  1572.32909366 2055.1322954  2166.1770318  2760.02496994 3621.02401304]\n",
      " [ 487.63123376  168.98112061    0.          696.84595451  914.10739529\n",
      "  1403.34797305 1886.15117479 1997.19591119 2591.04384933 3452.04289243]\n",
      " [1184.47718826  865.82707512  696.84595451    0.          217.26144078\n",
      "   706.50201854 1189.30522028 1300.34995668 1894.19789482 2755.19693792]\n",
      " [1401.73862905 1083.0885159   914.10739529  217.26144078    0.\n",
      "   489.24057776  972.0437795  1083.0885159  1676.93645404 2537.93549714]\n",
      " [1890.97920681 1572.32909366 1403.34797305  706.50201854  489.24057776\n",
      "     0.          482.80320174  593.84793814 1187.69587628 2048.69491938]\n",
      " [2373.78240855 2055.1322954  1886.15117479 1189.30522028  972.0437795\n",
      "   482.80320174    0.          111.0447364   704.89267454 1565.89171764]\n",
      " [2484.82714495 2166.1770318  1997.19591119 1300.34995668 1083.0885159\n",
      "   593.84793814  111.0447364     0.          593.84793814 1454.84698124]\n",
      " [3078.67508309 2760.02496994 2591.04384933 1894.19789482 1676.93645404\n",
      "  1187.69587628  704.89267454  593.84793814    0.          860.9990431 ]\n",
      " [3939.67412619 3621.02401304 3452.04289243 2755.19693792 2537.93549714\n",
      "  2048.69491938 1565.89171764 1454.84698124  860.9990431     0.        ]]\n"
     ]
    }
   ],
   "source": [
    "mileposts = np.array([0, 198, 303, 736, 871, 1175, 1475, 1544,1913, 2448])\n",
    "distance_array = np.abs(mileposts - mileposts[:, np.newaxis])\n",
    "distance_array\n",
    "print(\"\\ndistance: \\n\",distance_array)\n",
    "print(\"\\n Converted from miles in: \\n\", distance_array/0.62137119)\n"
   ]
  },
  {
   "cell_type": "markdown",
   "metadata": {},
   "source": [
    "7\\. **Prime numbers sieve**\n",
    "\n",
    "Compute the prime numbers in the 0-N (start with N=99) range with a sieve (mask).\n",
    "\n",
    "  * Constract a shape (N,) boolean array, which is the mask\n",
    "  * Identify the multiples of each number starting from 2 and set accordingly the corresponding mask element\n",
    "  * Apply the mask to obtain an array of ordered prime numbers\n",
    "  * Check the performances (with `timeit`); how does it scale with N?\n",
    "  * Implement the optimization suggested in the [sieve of Eratosthenes](https://en.wikipedia.org/wiki/Sieve_of_Eratosthenes)"
   ]
  },
  {
   "cell_type": "code",
   "execution_count": 112,
   "metadata": {},
   "outputs": [
    {
     "name": "stdout",
     "output_type": "stream",
     "text": [
      "[2, 3, 5, 7, 11]\n",
      "0.00038610000046901405\n"
     ]
    }
   ],
   "source": [
    "from math import pow, ceil\n",
    "import timeit\n",
    "def sieve(n):\n",
    "    N = [True for i in range(n+1)]\n",
    "    N[1] = False\n",
    "    primes = []\n",
    "    for i in range(2, ceil(pow(n, 0.5))+1):\n",
    "        if N[i]:\n",
    "            for j in range(i*i, n+1, i):\n",
    "                N[j] = False\n",
    "    for i in range(2, n+1):\n",
    "        if N[i]:\n",
    "           primes.append(i)\n",
    "    return primes\n",
    "\n",
    "n = int(input(\"Enter n: \\n\"))\n",
    "print(sieve(n))\n",
    "print(timeit.timeit('sieve(n)', globals=globals(), number=99))"
   ]
  },
  {
   "cell_type": "markdown",
   "metadata": {},
   "source": [
    "8\\. **Diffusion using random walk**\n",
    "\n",
    "Consider a simple random walk process: at each step in time, a walker jumps right or left (+1 or -1) with equal probability. The goal is to find the typical distance from the origin of many random walkers after a given amount of time.\n",
    "\n",
    "*Hint*: create a 2D array where each row represents a walker, and each column represents a time step.\n",
    "\n",
    "  * Take 1000 walkers and let them walk for 200 steps\n",
    "  * Use `randint` to create a 2D array of size $walkers \\times steps$ with values -1 or 1\n",
    "  * Calculate the walking distances for each walker (e.g. by summing the elements in each row)\n",
    "  * Take the square of the previously-obtained array (element-wise)\n",
    "  * Compute the mean of the squared distances at each step (i.e. the mean along the columns)\n",
    "  * **Optional**: plot the average distances ($\\sqrt(distance^2)$) as a function of time (step)"
   ]
  },
  {
   "cell_type": "code",
   "execution_count": 113,
   "metadata": {},
   "outputs": [
    {
     "ename": "ModuleNotFoundError",
     "evalue": "No module named 'pylab'",
     "output_type": "error",
     "traceback": [
      "\u001B[1;31m---------------------------------------------------------------------------\u001B[0m",
      "\u001B[1;31mModuleNotFoundError\u001B[0m                       Traceback (most recent call last)",
      "Cell \u001B[1;32mIn [113], line 1\u001B[0m\n\u001B[1;32m----> 1\u001B[0m \u001B[38;5;28;01mfrom\u001B[39;00m \u001B[38;5;21;01mpylab\u001B[39;00m \u001B[38;5;28;01mimport\u001B[39;00m \u001B[38;5;241m*\u001B[39m\n\u001B[0;32m      2\u001B[0m u \u001B[38;5;241m=\u001B[39m \u001B[38;5;241m2\u001B[39m \u001B[38;5;241m*\u001B[39m randint(\u001B[38;5;241m0\u001B[39m, \u001B[38;5;241m2\u001B[39m, size\u001B[38;5;241m=\u001B[39m(\u001B[38;5;241m1000\u001B[39m, \u001B[38;5;241m200\u001B[39m))\u001B[38;5;241m-\u001B[39m\u001B[38;5;241m1\u001B[39m\n\u001B[0;32m      3\u001B[0m \u001B[38;5;28mprint\u001B[39m(u)\n",
      "\u001B[1;31mModuleNotFoundError\u001B[0m: No module named 'pylab'"
     ]
    }
   ],
   "source": [
    "from pylab import *\n",
    "u = 2 * randint(0, 2, size=(1000, 200))-1\n",
    "print(u)\n",
    "walking_distance = u.sum(1)\n",
    "print(\"\\n\", u.sum(1))   # the walking distance for each walker\n",
    "walking_distances_square = np.square(walking_distance)\n",
    "print(\"\\n\", walking_distances_square)   # the square of the previously-obtained array (element-wise)\n",
    "mean_distance_square = []\n",
    "mean = 0\n",
    "for i in walking_distances_square:\n",
    "    mean += i\n",
    "    mean_distance_square.append(np.mean(mean))\n",
    "print(mean_distance_square)\n",
    "distances = np.sqrt(walking_distances_square)\n",
    "m = np.arange(0, len(distances))\n",
    "plt.plot(m, distances)\n",
    "plt.show()"
   ]
  }
 ],
 "metadata": {
  "kernelspec": {
   "display_name": "Python 3",
   "language": "python",
   "name": "python3"
  },
  "language_info": {
   "codemirror_mode": {
    "name": "ipython",
    "version": 3
   },
   "file_extension": ".py",
   "mimetype": "text/x-python",
   "name": "python",
   "nbconvert_exporter": "python",
   "pygments_lexer": "ipython3",
   "version": "3.8.5"
  }
 },
 "nbformat": 4,
 "nbformat_minor": 2
}
